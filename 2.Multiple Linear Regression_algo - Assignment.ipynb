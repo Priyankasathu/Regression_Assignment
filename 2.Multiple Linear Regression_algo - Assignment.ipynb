{
 "cells": [
  {
   "cell_type": "code",
   "execution_count": 15,
   "id": "d61e1111-c7a6-4186-a886-0645d56ca5fc",
   "metadata": {},
   "outputs": [
    {
     "data": {
      "text/plain": [
       "Index(['age', 'bmi', 'children', 'charges', 'sex_male', 'smoker_yes'], dtype='object')"
      ]
     },
     "execution_count": 15,
     "metadata": {},
     "output_type": "execute_result"
    }
   ],
   "source": [
    "#importing the Libraies\n",
    "import numpy as np\n",
    "import matplotlib.pyplot as plt\n",
    "import pandas as pd\n",
    "# Reading the Dataset\n",
    "dataset = pd.read_csv('insurance_pre.csv')\n",
    "#its a nominal value so values should be expanded\n",
    "dataset=pd.get_dummies(dataset,drop_first=True)\n",
    "dataset=dataset.astype(int) # expanded columns are boolean so converted into int\n",
    "dataset.columns\n"
   ]
  },
  {
   "cell_type": "code",
   "execution_count": 19,
   "id": "508d4b5d-4755-4e86-9c15-4ea0b3395424",
   "metadata": {},
   "outputs": [
    {
     "data": {
      "text/plain": [
       "(892, 5)"
      ]
     },
     "execution_count": 19,
     "metadata": {},
     "output_type": "execute_result"
    }
   ],
   "source": [
    "#split input and output\n",
    "independent=dataset[['age', 'bmi', 'children','sex_male', 'smoker_yes']]\n",
    "dependent=dataset[['charges']]\n",
    "#split into training set and test\n",
    "from sklearn.model_selection import train_test_split\n",
    "X_train, X_test, y_train, y_test = train_test_split(independent, dependent, test_size = 1/3, random_state = 0)\n",
    "X_train.shape\n"
   ]
  },
  {
   "cell_type": "code",
   "execution_count": 23,
   "id": "eb67fb87-ba30-4db0-b19b-5c79dec40f5e",
   "metadata": {},
   "outputs": [
    {
     "name": "stdout",
     "output_type": "stream",
     "text": [
      "Weight of the model=[[  260.30666221   314.23968583   550.1692883    -70.67943471\n",
      "  23265.54605564]]\n",
      "Intercept of the model=[-11842.92145591]\n"
     ]
    }
   ],
   "source": [
    "#model creation\n",
    "from sklearn.linear_model import LinearRegression\n",
    "regressor = LinearRegression()\n",
    "regressor.fit(X_train, y_train)#y=W*x1+b0 for this equation we got value for b1 and bo\n",
    "# Viewing the b1 and bo value\n",
    "weight=regressor.coef_\n",
    "print(\"Weight of the model={}\".format(weight))\n",
    "bais=regressor.intercept_\n",
    "print(\"Intercept of the model={}\".format(bais))\n"
   ]
  },
  {
   "cell_type": "code",
   "execution_count": 25,
   "id": "453a3102-827f-4b33-9c98-98c8fc4bd267",
   "metadata": {},
   "outputs": [
    {
     "data": {
      "text/plain": [
       "0.7862502913924562"
      ]
     },
     "execution_count": 25,
     "metadata": {},
     "output_type": "execute_result"
    }
   ],
   "source": [
    "#get predicted output \n",
    "y_pred=regressor.predict(X_test)\n",
    "#Validation\n",
    "from sklearn.metrics import r2_score\n",
    "r_score=r2_score(y_test,y_pred)\n",
    "r_score"
   ]
  },
  {
   "cell_type": "code",
   "execution_count": null,
   "id": "739f95eb-c22f-4b43-a26c-32954aa290a2",
   "metadata": {},
   "outputs": [],
   "source": []
  }
 ],
 "metadata": {
  "kernelspec": {
   "display_name": "Python [conda env:base] *",
   "language": "python",
   "name": "conda-base-py"
  },
  "language_info": {
   "codemirror_mode": {
    "name": "ipython",
    "version": 3
   },
   "file_extension": ".py",
   "mimetype": "text/x-python",
   "name": "python",
   "nbconvert_exporter": "python",
   "pygments_lexer": "ipython3",
   "version": "3.12.7"
  }
 },
 "nbformat": 4,
 "nbformat_minor": 5
}
